{
 "cells": [
  {
   "cell_type": "markdown",
   "metadata": {},
   "source": [
    "# Pytorchによる分類モデル"
   ]
  },
  {
   "cell_type": "code",
   "execution_count": 20,
   "metadata": {},
   "outputs": [],
   "source": [
    "import torch\n",
    "import torch.nn as nn\n",
    "import torch.optim as optim\n",
    "import pandas as pd\n",
    "from torch.utils.data import DataLoader, TensorDataset\n",
    "from sklearn.model_selection import train_test_split\n",
    "from sklearn.preprocessing import LabelEncoder\n"
   ]
  },
  {
   "cell_type": "code",
   "execution_count": 21,
   "metadata": {},
   "outputs": [],
   "source": [
    "class SimpleNN(nn.Module):\n",
    "    def __init__(self):\n",
    "        super(SimpleNN, self).__init__()\n",
    "        self.fc1 = nn.Linear(5, 64)\n",
    "        self.fc2 = nn.Linear(64, 128)\n",
    "        self.fc3 = nn.Linear(128, 6)\n",
    "\n",
    "    def forward(self, x):\n",
    "        x = torch.relu(self.fc1(x))\n",
    "        x = torch.relu(self.fc2(x))\n",
    "        x = self.fc3(x)\n",
    "        return x\n"
   ]
  },
  {
   "cell_type": "code",
   "execution_count": 22,
   "metadata": {},
   "outputs": [
    {
     "name": "stdout",
     "output_type": "stream",
     "text": [
      "[[  9.04029874  32.97510419  10.18393942 -16.02446414  34.92598665]\n",
      " [  9.45603037  17.74598672  -2.30618409  22.87743447  29.3612006 ]\n",
      " [  9.29508772  25.53407524  -0.6442973   30.34120298  34.5576932 ]\n",
      " ...\n",
      " [ 11.07121976  34.93547783   6.45382184   8.45650719  39.74778051]\n",
      " [ 13.99006782  42.77767379   7.67889063  -4.97488979  33.39031478]\n",
      " [  5.62998037  12.8526171    3.96291914  -1.09817854  35.39172352]]\n"
     ]
    }
   ],
   "source": [
    "# CSVファイルからデータを読み込む\n",
    "#データセットの読み込み\n",
    "TRAIN_DATA_PATH: str = \"dataset/train_Mod.csv\"\n",
    "TEST_DATA_PATH: str = \"dataset/test.csv\"\n",
    "train_data = pd.read_csv(TRAIN_DATA_PATH)\n",
    "test_data = pd.read_csv(TEST_DATA_PATH)\n",
    "\n",
    "#欠損値の補完（とりあえず平均値で）\n",
    "train_data[\"knee_depth\"] = train_data[\"knee_depth\"].fillna(train_data[\"knee_depth\"].mean())\n",
    "train_data[\"hip_depth\"] = train_data[\"hip_depth\"].fillna(train_data[\"hip_depth\"].mean())\n",
    "\n",
    "#idはいらないので削除\n",
    "train_data = train_data.drop(\"id\", axis=1)\n",
    "test_data = test_data.drop(\"id\", axis=1)\n",
    "train_data.isnull().sum()\n",
    "\n",
    "\n",
    "#学習データを訓練用、検証用に分割\n",
    "train_data, valid_data = train_test_split(train_data, test_size=0.2, random_state=0)\n",
    "X_train = train_data.drop(\"personal_id\", axis=1)\n",
    "y_train = train_data[\"personal_id\"]\n",
    "X_valid = valid_data.drop(\"personal_id\", axis=1)\n",
    "y_valid = valid_data[\"personal_id\"]\n",
    "\n",
    "#ラベルを数値に変換\n",
    "le = LabelEncoder()\n",
    "y_train = le.fit_transform(y_train)\n",
    "y_valid = le.transform(y_valid)\n",
    "\n",
    "print(X_train.values)\n"
   ]
  },
  {
   "cell_type": "code",
   "execution_count": 23,
   "metadata": {},
   "outputs": [],
   "source": [
    "# データをPyTorchのテンソルに変換\n",
    "X_train = torch.FloatTensor(X_train.values)\n",
    "y_train = torch.LongTensor(y_train)\n",
    "X_valid = torch.FloatTensor(X_valid.values)\n",
    "y_valid = torch.LongTensor(y_valid)\n",
    "\n",
    "# DataLoaderを作成\n",
    "train_data = TensorDataset(X_train, y_train)\n",
    "train_loader = DataLoader(train_data, batch_size=32, shuffle=True)"
   ]
  },
  {
   "cell_type": "code",
   "execution_count": null,
   "metadata": {},
   "outputs": [],
   "source": [
    "def train_model(model, criterion, optimizer, epoch):\n",
    "    # 訓練ループ\n",
    "    for e in range(epoch):\n",
    "        model.train()\n",
    "        for batch_idx, (data, target) in enumerate(train_loader):\n",
    "            optimizer.zero_grad()\n",
    "            output = model(data)\n",
    "            loss = criterion(output, target)\n",
    "            loss.backward()\n",
    "            optimizer.step()\n",
    "\n",
    "def test_model(model):\n",
    "    \n"
   ]
  },
  {
   "cell_type": "code",
   "execution_count": 31,
   "metadata": {},
   "outputs": [
    {
     "name": "stdout",
     "output_type": "stream",
     "text": [
      "Learning rate: 0.001, Epochs: 50, Test Accuracy: 65.04065040650407%\n",
      "Learning rate: 0.001, Epochs: 100, Test Accuracy: 73.17073170731707%\n",
      "Learning rate: 0.001, Epochs: 200, Test Accuracy: 71.54471544715447%\n",
      "Learning rate: 0.01, Epochs: 50, Test Accuracy: 69.10569105691057%\n",
      "Learning rate: 0.01, Epochs: 100, Test Accuracy: 78.86178861788618%\n",
      "Learning rate: 0.01, Epochs: 200, Test Accuracy: 70.73170731707317%\n",
      "Learning rate: 0.1, Epochs: 50, Test Accuracy: 12.195121951219512%\n",
      "Learning rate: 0.1, Epochs: 100, Test Accuracy: 12.195121951219512%\n",
      "Learning rate: 0.1, Epochs: 200, Test Accuracy: 39.83739837398374%\n",
      "Learning rate: 0.2, Epochs: 50, Test Accuracy: 12.195121951219512%\n",
      "Learning rate: 0.2, Epochs: 100, Test Accuracy: 12.195121951219512%\n",
      "Learning rate: 0.2, Epochs: 200, Test Accuracy: 12.195121951219512%\n",
      "Learning rate: 0.3, Epochs: 50, Test Accuracy: 12.195121951219512%\n",
      "Learning rate: 0.3, Epochs: 100, Test Accuracy: 19.51219512195122%\n",
      "Learning rate: 0.3, Epochs: 200, Test Accuracy: 12.195121951219512%\n",
      "Learning rate: 0.4, Epochs: 50, Test Accuracy: 12.195121951219512%\n",
      "Learning rate: 0.4, Epochs: 100, Test Accuracy: 12.195121951219512%\n",
      "Learning rate: 0.4, Epochs: 200, Test Accuracy: 12.195121951219512%\n",
      "Best Model Accuracy: 78.86178861788618%\n"
     ]
    }
   ],
   "source": [
    "best_model = None\n",
    "best_accuracy = 0\n",
    "\n",
    "# ハイパーパラメータの候補\n",
    "learning_rates = [0.001, 0.01, 0.1, 0.2, 0.3, 0.4]\n",
    "num_epochs = [50, 100, 200]\n",
    "\n",
    "for lr in learning_rates:\n",
    "    for epoch in num_epochs:\n",
    "        model = SimpleNN()\n",
    "        criterion = nn.CrossEntropyLoss()\n",
    "        optimizer = optim.Adam(model.parameters(), lr=lr)\n",
    "\n",
    "        # 訓練ループ\n",
    "        for e in range(epoch):\n",
    "            model.train()\n",
    "            for batch_idx, (data, target) in enumerate(train_loader):\n",
    "                optimizer.zero_grad()\n",
    "                output = model(data)\n",
    "                loss = criterion(output, target)\n",
    "                loss.backward()\n",
    "                optimizer.step()\n",
    "\n",
    "        # テストループ\n",
    "        model.eval()\n",
    "        correct_test = 0\n",
    "        total_test = 0\n",
    "        with torch.no_grad():\n",
    "            for data, target in zip(X_valid, y_valid):\n",
    "                data = data.unsqueeze(0)\n",
    "                output = model(data)\n",
    "                _, predicted = torch.max(output.data, 1)\n",
    "                total_test += 1\n",
    "                correct_test += (predicted == target).sum().item()\n",
    "\n",
    "        test_accuracy = 100 * correct_test / total_test\n",
    "        print(f'Learning rate: {lr}, Epochs: {epoch}, Test Accuracy: {test_accuracy}%')\n",
    "\n",
    "        # 最も良いモデルを保存\n",
    "        if test_accuracy > best_accuracy:\n",
    "            best_accuracy = test_accuracy\n",
    "            best_model = model\n",
    "\n",
    "print(f'Best Model Accuracy: {best_accuracy}%')\n"
   ]
  }
 ],
 "metadata": {
  "kernelspec": {
   "display_name": "Rikkyo-OpenHouseComp-hWWgu0EB",
   "language": "python",
   "name": "python3"
  },
  "language_info": {
   "codemirror_mode": {
    "name": "ipython",
    "version": 3
   },
   "file_extension": ".py",
   "mimetype": "text/x-python",
   "name": "python",
   "nbconvert_exporter": "python",
   "pygments_lexer": "ipython3",
   "version": "3.10.5"
  },
  "orig_nbformat": 4
 },
 "nbformat": 4,
 "nbformat_minor": 2
}
